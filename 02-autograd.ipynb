{
 "cells": [
  {
   "cell_type": "markdown",
   "id": "f30e51a8",
   "metadata": {},
   "source": [
    "# Imports"
   ]
  },
  {
   "cell_type": "code",
   "execution_count": 1,
   "id": "cdd440fa",
   "metadata": {},
   "outputs": [
    {
     "data": {
      "text/plain": [
       "'2.5.1'"
      ]
     },
     "execution_count": 1,
     "metadata": {},
     "output_type": "execute_result"
    }
   ],
   "source": [
    "import time\n",
    "import torch\n",
    "torch.__version__"
   ]
  },
  {
   "cell_type": "code",
   "execution_count": 2,
   "id": "5e8d3900",
   "metadata": {},
   "outputs": [
    {
     "name": "stdout",
     "output_type": "stream",
     "text": [
      "CUDA is available, and using NVIDIA GeForce GTX 1660 Ti\n"
     ]
    }
   ],
   "source": [
    "if torch.cuda.is_available():\n",
    "    device = torch.device(\"cuda\")\n",
    "    print(\"CUDA is available, and using\", torch.cuda.get_device_name(0))\n",
    "else:\n",
    "    device = torch.device(\"cpu\")\n",
    "    print(\"CUDA is not available, using CPU only.\")"
   ]
  },
  {
   "cell_type": "markdown",
   "id": "2c8f626d",
   "metadata": {},
   "source": [
    "# Autograd for Ex01"
   ]
  },
  {
   "cell_type": "markdown",
   "id": "e5817943",
   "metadata": {},
   "source": [
    "setup"
   ]
  },
  {
   "cell_type": "code",
   "execution_count": 3,
   "id": "412eec23",
   "metadata": {},
   "outputs": [
    {
     "data": {
      "text/plain": [
       "tensor(3., requires_grad=True)"
      ]
     },
     "execution_count": 3,
     "metadata": {},
     "output_type": "execute_result"
    }
   ],
   "source": [
    "x = torch.tensor(3.0, requires_grad=True) # requires_grad=True enables autograd for tracking computation graph\n",
    "x"
   ]
  },
  {
   "cell_type": "code",
   "execution_count": 4,
   "id": "8f3374c2",
   "metadata": {},
   "outputs": [
    {
     "data": {
      "text/plain": [
       "tensor(9., grad_fn=<PowBackward0>)"
      ]
     },
     "execution_count": 4,
     "metadata": {},
     "output_type": "execute_result"
    }
   ],
   "source": [
    "y = x ** 2\n",
    "y # its has remembered that it came from x via PowBackward0"
   ]
  },
  {
   "cell_type": "markdown",
   "id": "c8840564",
   "metadata": {},
   "source": [
    "calculating grad"
   ]
  },
  {
   "cell_type": "code",
   "execution_count": 5,
   "id": "26352556",
   "metadata": {},
   "outputs": [
    {
     "data": {
      "text/plain": [
       "tensor(6.)"
      ]
     },
     "execution_count": 5,
     "metadata": {},
     "output_type": "execute_result"
    }
   ],
   "source": [
    "y.backward() # computes dy/dx\n",
    "x.grad # prints the computed gradient dy/dx = 2x = 6"
   ]
  },
  {
   "cell_type": "markdown",
   "id": "b970deee",
   "metadata": {},
   "source": [
    "# Autograd for Ex02"
   ]
  },
  {
   "cell_type": "markdown",
   "id": "02ebef74",
   "metadata": {},
   "source": [
    "setup"
   ]
  },
  {
   "cell_type": "code",
   "execution_count": 6,
   "id": "b02c3487",
   "metadata": {},
   "outputs": [
    {
     "data": {
      "text/plain": [
       "tensor(3., requires_grad=True)"
      ]
     },
     "execution_count": 6,
     "metadata": {},
     "output_type": "execute_result"
    }
   ],
   "source": [
    "x = torch.tensor(3.0, requires_grad=True) # requires_grad=True enables autograd for tracking computation graph\n",
    "x"
   ]
  },
  {
   "cell_type": "code",
   "execution_count": 7,
   "id": "3d4a15b7",
   "metadata": {},
   "outputs": [
    {
     "data": {
      "text/plain": [
       "tensor(9., grad_fn=<PowBackward0>)"
      ]
     },
     "execution_count": 7,
     "metadata": {},
     "output_type": "execute_result"
    }
   ],
   "source": [
    "y = x ** 2\n",
    "y"
   ]
  },
  {
   "cell_type": "code",
   "execution_count": 8,
   "id": "712ac08f",
   "metadata": {},
   "outputs": [
    {
     "data": {
      "text/plain": [
       "tensor(0.4121, grad_fn=<SinBackward0>)"
      ]
     },
     "execution_count": 8,
     "metadata": {},
     "output_type": "execute_result"
    }
   ],
   "source": [
    "z = torch.sin(y)\n",
    "z"
   ]
  },
  {
   "cell_type": "markdown",
   "id": "0d1a6238",
   "metadata": {},
   "source": [
    "calculating grad"
   ]
  },
  {
   "cell_type": "code",
   "execution_count": 9,
   "id": "c9a6d66e",
   "metadata": {},
   "outputs": [
    {
     "data": {
      "text/plain": [
       "tensor(-5.4668)"
      ]
     },
     "execution_count": 9,
     "metadata": {},
     "output_type": "execute_result"
    }
   ],
   "source": [
    "z.backward() # computes dz/dx\n",
    "x.grad # prints the computed gradient dz/dx = cos(y) * dy/dx = cos(x^2) * 2x"
   ]
  },
  {
   "cell_type": "markdown",
   "id": "fb91edc7",
   "metadata": {},
   "source": [
    "# Autograd for Ex03"
   ]
  },
  {
   "cell_type": "markdown",
   "id": "a03dd226",
   "metadata": {},
   "source": [
    "setup"
   ]
  },
  {
   "cell_type": "code",
   "execution_count": 10,
   "id": "8329cc3c",
   "metadata": {},
   "outputs": [
    {
     "data": {
      "text/plain": [
       "(tensor(6.7000), tensor(0.))"
      ]
     },
     "execution_count": 10,
     "metadata": {},
     "output_type": "execute_result"
    }
   ],
   "source": [
    "x = torch.tensor(6.7) # here no autograd, since we are tracking weights not x\n",
    "y = torch.tensor(0.0) # here no autograd, since we are tracking weights not y\n",
    "\n",
    "x, y"
   ]
  },
  {
   "cell_type": "code",
   "execution_count": 11,
   "id": "7f370fc1",
   "metadata": {},
   "outputs": [
    {
     "data": {
      "text/plain": [
       "(tensor(1., requires_grad=True), tensor(0., requires_grad=True))"
      ]
     },
     "execution_count": 11,
     "metadata": {},
     "output_type": "execute_result"
    }
   ],
   "source": [
    "w = torch.tensor(1.0, requires_grad=True) # weights with tracking\n",
    "b = torch.tensor(0.0, requires_grad=True) # bias with tracking\n",
    "\n",
    "w, b"
   ]
  },
  {
   "cell_type": "code",
   "execution_count": 12,
   "id": "aa0bdaad",
   "metadata": {},
   "outputs": [
    {
     "data": {
      "text/plain": [
       "tensor(6.7000, grad_fn=<AddBackward0>)"
      ]
     },
     "execution_count": 12,
     "metadata": {},
     "output_type": "execute_result"
    }
   ],
   "source": [
    "z = (w * x) + b\n",
    "z"
   ]
  },
  {
   "cell_type": "code",
   "execution_count": 13,
   "id": "7ae3bfde",
   "metadata": {},
   "outputs": [
    {
     "data": {
      "text/plain": [
       "tensor(0.9988, grad_fn=<SigmoidBackward0>)"
      ]
     },
     "execution_count": 13,
     "metadata": {},
     "output_type": "execute_result"
    }
   ],
   "source": [
    "y_pred = torch.sigmoid(z)\n",
    "y_pred"
   ]
  },
  {
   "cell_type": "code",
   "execution_count": 14,
   "id": "f89325d2",
   "metadata": {},
   "outputs": [
    {
     "data": {
      "text/plain": [
       "tensor(6.7012, grad_fn=<SubBackward0>)"
      ]
     },
     "execution_count": 14,
     "metadata": {},
     "output_type": "execute_result"
    }
   ],
   "source": [
    "def binary_cross_entropy(y_pred, y):\n",
    "    epsilon = 1e-8 # to prevent log(0) case\n",
    "    y_pred = torch.clamp(y_pred, epsilon, 1 - epsilon)\n",
    "    result = - (y * torch.log(y_pred)) - ((1 - y) * torch.log(1 - y_pred))\n",
    "    return result\n",
    "\n",
    "loss = binary_cross_entropy(y_pred, y)\n",
    "loss"
   ]
  },
  {
   "cell_type": "markdown",
   "id": "480d8115",
   "metadata": {},
   "source": [
    "calculating grad"
   ]
  },
  {
   "cell_type": "code",
   "execution_count": 15,
   "id": "fd51268f",
   "metadata": {},
   "outputs": [
    {
     "data": {
      "text/plain": [
       "(tensor(6.6918), tensor(0.9988))"
      ]
     },
     "execution_count": 15,
     "metadata": {},
     "output_type": "execute_result"
    }
   ],
   "source": [
    "loss.backward() # compute gradients of loss w.r.t. w and b\n",
    "w.grad, b.grad # print the gradients"
   ]
  },
  {
   "cell_type": "markdown",
   "id": "0aea5fc7",
   "metadata": {},
   "source": [
    "# Autograd Options"
   ]
  },
  {
   "cell_type": "markdown",
   "id": "3238e299",
   "metadata": {},
   "source": [
    "clearing grad"
   ]
  },
  {
   "cell_type": "code",
   "execution_count": 44,
   "id": "867a58ab",
   "metadata": {},
   "outputs": [
    {
     "data": {
      "text/plain": [
       "(tensor(3., requires_grad=True), tensor(9., grad_fn=<PowBackward0>))"
      ]
     },
     "execution_count": 44,
     "metadata": {},
     "output_type": "execute_result"
    }
   ],
   "source": [
    "x = torch.tensor(3.0, requires_grad=True)\n",
    "y = x ** 2\n",
    "x, y"
   ]
  },
  {
   "cell_type": "code",
   "execution_count": 48,
   "id": "bd35cc8f",
   "metadata": {},
   "outputs": [],
   "source": [
    "# y.backward()\n",
    "# x.grad # if we run backward again, gradients will be accumulated\n",
    "\n",
    "# To clear the gradients before running backward again\n",
    "# y.backward()\n",
    "# x.grad.zero_()\n",
    "# x.grad"
   ]
  },
  {
   "cell_type": "markdown",
   "id": "097ac2af",
   "metadata": {},
   "source": [
    "disable tracking"
   ]
  },
  {
   "cell_type": "code",
   "execution_count": 51,
   "id": "459df3c0",
   "metadata": {},
   "outputs": [],
   "source": [
    "# option 01\n",
    "# x.requires_grad_(False) # disable tracking\n",
    "\n",
    "# option 02\n",
    "# z = x.detach() # creating new graph without tracking\n",
    "\n",
    "# option 03\n",
    "# with torch.no_grad():\n",
    "#     y = x ** 2\n",
    "#     y.backward()\n",
    "#     x.grad"
   ]
  },
  {
   "cell_type": "code",
   "execution_count": null,
   "id": "0dc568a8",
   "metadata": {},
   "outputs": [],
   "source": []
  }
 ],
 "metadata": {
  "kernelspec": {
   "display_name": "EnvPT",
   "language": "python",
   "name": "python3"
  },
  "language_info": {
   "codemirror_mode": {
    "name": "ipython",
    "version": 3
   },
   "file_extension": ".py",
   "mimetype": "text/x-python",
   "name": "python",
   "nbconvert_exporter": "python",
   "pygments_lexer": "ipython3",
   "version": "3.12.12"
  }
 },
 "nbformat": 4,
 "nbformat_minor": 5
}
