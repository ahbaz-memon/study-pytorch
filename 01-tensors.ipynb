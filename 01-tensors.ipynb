{
 "cells": [
  {
   "cell_type": "markdown",
   "id": "33bd8c8e",
   "metadata": {},
   "source": [
    "# Imports"
   ]
  },
  {
   "cell_type": "code",
   "execution_count": 1,
   "id": "564f4ef8",
   "metadata": {},
   "outputs": [
    {
     "data": {
      "text/plain": [
       "'2.5.1'"
      ]
     },
     "execution_count": 1,
     "metadata": {},
     "output_type": "execute_result"
    }
   ],
   "source": [
    "import torch\n",
    "torch.__version__"
   ]
  },
  {
   "cell_type": "code",
   "execution_count": 2,
   "id": "f33b1e16",
   "metadata": {},
   "outputs": [
    {
     "name": "stdout",
     "output_type": "stream",
     "text": [
      "CUDA is available, and using NVIDIA GeForce GTX 1660 Ti\n"
     ]
    }
   ],
   "source": [
    "if torch.cuda.is_available():\n",
    "    print(\"CUDA is available, and using\", torch.cuda.get_device_name(0))\n",
    "else:\n",
    "    print(\"CUDA is not available, using CPU only.\")"
   ]
  },
  {
   "cell_type": "markdown",
   "id": "0bc2265e",
   "metadata": {},
   "source": [
    "# Creating Tensor"
   ]
  },
  {
   "cell_type": "markdown",
   "id": "bd706cd6",
   "metadata": {},
   "source": [
    "using empty"
   ]
  },
  {
   "cell_type": "code",
   "execution_count": 3,
   "id": "f63df409",
   "metadata": {},
   "outputs": [
    {
     "data": {
      "text/plain": [
       "tensor([[5.9442e+28, 1.6423e-42, 0.0000e+00],\n",
       "        [0.0000e+00, 0.0000e+00, 0.0000e+00]])"
      ]
     },
     "execution_count": 3,
     "metadata": {},
     "output_type": "execute_result"
    }
   ],
   "source": [
    "a = torch.empty(2, 3)\n",
    "a"
   ]
  },
  {
   "cell_type": "code",
   "execution_count": 4,
   "id": "415cf313",
   "metadata": {},
   "outputs": [
    {
     "data": {
      "text/plain": [
       "torch.Tensor"
      ]
     },
     "execution_count": 4,
     "metadata": {},
     "output_type": "execute_result"
    }
   ],
   "source": [
    "type(a)"
   ]
  },
  {
   "cell_type": "markdown",
   "id": "cd9b58a3",
   "metadata": {},
   "source": [
    "using zeros"
   ]
  },
  {
   "cell_type": "code",
   "execution_count": 5,
   "id": "1281a3dc",
   "metadata": {},
   "outputs": [
    {
     "data": {
      "text/plain": [
       "tensor([[0., 0., 0.],\n",
       "        [0., 0., 0.]])"
      ]
     },
     "execution_count": 5,
     "metadata": {},
     "output_type": "execute_result"
    }
   ],
   "source": [
    "torch.zeros(2, 3)"
   ]
  },
  {
   "cell_type": "markdown",
   "id": "3b16e604",
   "metadata": {},
   "source": [
    "using ones"
   ]
  },
  {
   "cell_type": "code",
   "execution_count": 6,
   "id": "e87bb923",
   "metadata": {},
   "outputs": [
    {
     "data": {
      "text/plain": [
       "tensor([[1., 1., 1.],\n",
       "        [1., 1., 1.],\n",
       "        [1., 1., 1.]])"
      ]
     },
     "execution_count": 6,
     "metadata": {},
     "output_type": "execute_result"
    }
   ],
   "source": [
    "torch.ones(3, 3)"
   ]
  },
  {
   "cell_type": "markdown",
   "id": "26ddc22b",
   "metadata": {},
   "source": [
    "using full"
   ]
  },
  {
   "cell_type": "code",
   "execution_count": 7,
   "id": "34960afb",
   "metadata": {},
   "outputs": [
    {
     "data": {
      "text/plain": [
       "tensor([[9, 9, 9],\n",
       "        [9, 9, 9]])"
      ]
     },
     "execution_count": 7,
     "metadata": {},
     "output_type": "execute_result"
    }
   ],
   "source": [
    "torch.full((2, 3), 9) # numpy full_like"
   ]
  },
  {
   "cell_type": "markdown",
   "id": "ff5ef8ad",
   "metadata": {},
   "source": [
    "using random"
   ]
  },
  {
   "cell_type": "code",
   "execution_count": 8,
   "id": "53c47ae2",
   "metadata": {},
   "outputs": [
    {
     "data": {
      "text/plain": [
       "tensor([[0.7460, 0.3231, 0.9070],\n",
       "        [0.8711, 0.0365, 0.4331]])"
      ]
     },
     "execution_count": 8,
     "metadata": {},
     "output_type": "execute_result"
    }
   ],
   "source": [
    "torch.rand(2, 3) # every run, different random numbers"
   ]
  },
  {
   "cell_type": "code",
   "execution_count": 9,
   "id": "3c67a4be",
   "metadata": {},
   "outputs": [
    {
     "data": {
      "text/plain": [
       "tensor([[0.1117, 0.8158, 0.2626],\n",
       "        [0.4839, 0.6765, 0.7539]])"
      ]
     },
     "execution_count": 9,
     "metadata": {},
     "output_type": "execute_result"
    }
   ],
   "source": [
    "torch.manual_seed(100) # for reproducibility\n",
    "torch.rand(2, 3) # every run, same random numbers"
   ]
  },
  {
   "cell_type": "markdown",
   "id": "9aa820d8",
   "metadata": {},
   "source": [
    "custom tensor"
   ]
  },
  {
   "cell_type": "code",
   "execution_count": 10,
   "id": "72b90c2d",
   "metadata": {},
   "outputs": [
    {
     "data": {
      "text/plain": [
       "tensor([[1, 2, 3],\n",
       "        [4, 5, 6]])"
      ]
     },
     "execution_count": 10,
     "metadata": {},
     "output_type": "execute_result"
    }
   ],
   "source": [
    "torch.tensor([[1, 2, 3], [4, 5, 6]])"
   ]
  },
  {
   "cell_type": "markdown",
   "id": "abcb3a86",
   "metadata": {},
   "source": [
    "using range"
   ]
  },
  {
   "cell_type": "code",
   "execution_count": 11,
   "id": "ffe9c397",
   "metadata": {},
   "outputs": [
    {
     "data": {
      "text/plain": [
       "tensor([0, 2, 4, 6, 8])"
      ]
     },
     "execution_count": 11,
     "metadata": {},
     "output_type": "execute_result"
    }
   ],
   "source": [
    "torch.arange(start=0, end=10, step=2)"
   ]
  },
  {
   "cell_type": "code",
   "execution_count": 12,
   "id": "f845439f",
   "metadata": {},
   "outputs": [
    {
     "data": {
      "text/plain": [
       "tensor([0.0000, 0.2500, 0.5000, 0.7500, 1.0000])"
      ]
     },
     "execution_count": 12,
     "metadata": {},
     "output_type": "execute_result"
    }
   ],
   "source": [
    "torch.linspace(start=0, end=1, steps=5) # same like numpy"
   ]
  },
  {
   "cell_type": "markdown",
   "id": "2c8ecda1",
   "metadata": {},
   "source": [
    "using matrix"
   ]
  },
  {
   "cell_type": "code",
   "execution_count": 13,
   "id": "47f1d6b6",
   "metadata": {},
   "outputs": [
    {
     "data": {
      "text/plain": [
       "tensor([[1., 0., 0.],\n",
       "        [0., 1., 0.],\n",
       "        [0., 0., 1.]])"
      ]
     },
     "execution_count": 13,
     "metadata": {},
     "output_type": "execute_result"
    }
   ],
   "source": [
    "torch.eye(3) # identity matrix"
   ]
  },
  {
   "cell_type": "code",
   "execution_count": null,
   "id": "45715fd6",
   "metadata": {},
   "outputs": [],
   "source": []
  }
 ],
 "metadata": {
  "kernelspec": {
   "display_name": "EnvPT",
   "language": "python",
   "name": "python3"
  },
  "language_info": {
   "codemirror_mode": {
    "name": "ipython",
    "version": 3
   },
   "file_extension": ".py",
   "mimetype": "text/x-python",
   "name": "python",
   "nbconvert_exporter": "python",
   "pygments_lexer": "ipython3",
   "version": "3.12.12"
  }
 },
 "nbformat": 4,
 "nbformat_minor": 5
}
