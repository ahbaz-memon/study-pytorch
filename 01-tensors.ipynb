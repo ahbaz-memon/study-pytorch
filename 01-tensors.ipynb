{
 "cells": [
  {
   "cell_type": "markdown",
   "id": "33bd8c8e",
   "metadata": {},
   "source": [
    "# Imports"
   ]
  },
  {
   "cell_type": "code",
   "execution_count": 1,
   "id": "564f4ef8",
   "metadata": {},
   "outputs": [
    {
     "data": {
      "text/plain": [
       "'2.5.1'"
      ]
     },
     "execution_count": 1,
     "metadata": {},
     "output_type": "execute_result"
    }
   ],
   "source": [
    "import torch\n",
    "torch.__version__"
   ]
  },
  {
   "cell_type": "code",
   "execution_count": 2,
   "id": "f33b1e16",
   "metadata": {},
   "outputs": [
    {
     "name": "stdout",
     "output_type": "stream",
     "text": [
      "CUDA is available, and using NVIDIA GeForce GTX 1660 Ti\n"
     ]
    }
   ],
   "source": [
    "if torch.cuda.is_available():\n",
    "    device = torch.device(\"cuda\")\n",
    "    print(\"CUDA is available, and using\", torch.cuda.get_device_name(0))\n",
    "else:\n",
    "    device = torch.device(\"cpu\")\n",
    "    print(\"CUDA is not available, using CPU only.\")"
   ]
  },
  {
   "cell_type": "markdown",
   "id": "0bc2265e",
   "metadata": {},
   "source": [
    "# Creating Tensor"
   ]
  },
  {
   "cell_type": "markdown",
   "id": "bd706cd6",
   "metadata": {},
   "source": [
    "using empty"
   ]
  },
  {
   "cell_type": "code",
   "execution_count": 3,
   "id": "f63df409",
   "metadata": {},
   "outputs": [
    {
     "data": {
      "text/plain": [
       "tensor([[3.6913e+19, 1.5695e-42, 0.0000e+00],\n",
       "        [0.0000e+00, 0.0000e+00, 0.0000e+00]])"
      ]
     },
     "execution_count": 3,
     "metadata": {},
     "output_type": "execute_result"
    }
   ],
   "source": [
    "a = torch.empty(2, 3)\n",
    "a"
   ]
  },
  {
   "cell_type": "code",
   "execution_count": 4,
   "id": "415cf313",
   "metadata": {},
   "outputs": [
    {
     "data": {
      "text/plain": [
       "torch.Tensor"
      ]
     },
     "execution_count": 4,
     "metadata": {},
     "output_type": "execute_result"
    }
   ],
   "source": [
    "type(a)"
   ]
  },
  {
   "cell_type": "markdown",
   "id": "cd9b58a3",
   "metadata": {},
   "source": [
    "using zeros"
   ]
  },
  {
   "cell_type": "code",
   "execution_count": 5,
   "id": "1281a3dc",
   "metadata": {},
   "outputs": [
    {
     "data": {
      "text/plain": [
       "tensor([[0., 0., 0.],\n",
       "        [0., 0., 0.]])"
      ]
     },
     "execution_count": 5,
     "metadata": {},
     "output_type": "execute_result"
    }
   ],
   "source": [
    "torch.zeros(2, 3)"
   ]
  },
  {
   "cell_type": "markdown",
   "id": "3b16e604",
   "metadata": {},
   "source": [
    "using ones"
   ]
  },
  {
   "cell_type": "code",
   "execution_count": 6,
   "id": "e87bb923",
   "metadata": {},
   "outputs": [
    {
     "data": {
      "text/plain": [
       "tensor([[1., 1., 1.],\n",
       "        [1., 1., 1.],\n",
       "        [1., 1., 1.]])"
      ]
     },
     "execution_count": 6,
     "metadata": {},
     "output_type": "execute_result"
    }
   ],
   "source": [
    "torch.ones(3, 3)"
   ]
  },
  {
   "cell_type": "markdown",
   "id": "26ddc22b",
   "metadata": {},
   "source": [
    "using full"
   ]
  },
  {
   "cell_type": "code",
   "execution_count": 7,
   "id": "34960afb",
   "metadata": {},
   "outputs": [
    {
     "data": {
      "text/plain": [
       "tensor([[9, 9, 9],\n",
       "        [9, 9, 9]])"
      ]
     },
     "execution_count": 7,
     "metadata": {},
     "output_type": "execute_result"
    }
   ],
   "source": [
    "torch.full((2, 3), 9) # numpy full_like"
   ]
  },
  {
   "cell_type": "markdown",
   "id": "ff5ef8ad",
   "metadata": {},
   "source": [
    "using random"
   ]
  },
  {
   "cell_type": "code",
   "execution_count": 8,
   "id": "53c47ae2",
   "metadata": {},
   "outputs": [
    {
     "data": {
      "text/plain": [
       "tensor([[0.5553, 0.4080, 0.7546],\n",
       "        [0.4055, 0.7851, 0.5055]])"
      ]
     },
     "execution_count": 8,
     "metadata": {},
     "output_type": "execute_result"
    }
   ],
   "source": [
    "torch.rand(2, 3) # every run, different random numbers"
   ]
  },
  {
   "cell_type": "code",
   "execution_count": 9,
   "id": "3c67a4be",
   "metadata": {},
   "outputs": [
    {
     "data": {
      "text/plain": [
       "tensor([[0.1117, 0.8158, 0.2626],\n",
       "        [0.4839, 0.6765, 0.7539]])"
      ]
     },
     "execution_count": 9,
     "metadata": {},
     "output_type": "execute_result"
    }
   ],
   "source": [
    "torch.manual_seed(100) # for reproducibility\n",
    "torch.rand(2, 3) # every run, same random numbers"
   ]
  },
  {
   "cell_type": "markdown",
   "id": "9aa820d8",
   "metadata": {},
   "source": [
    "custom tensor"
   ]
  },
  {
   "cell_type": "code",
   "execution_count": 10,
   "id": "72b90c2d",
   "metadata": {},
   "outputs": [
    {
     "data": {
      "text/plain": [
       "tensor([[1, 2, 3],\n",
       "        [4, 5, 6]])"
      ]
     },
     "execution_count": 10,
     "metadata": {},
     "output_type": "execute_result"
    }
   ],
   "source": [
    "torch.tensor([[1, 2, 3], [4, 5, 6]])"
   ]
  },
  {
   "cell_type": "markdown",
   "id": "abcb3a86",
   "metadata": {},
   "source": [
    "using range"
   ]
  },
  {
   "cell_type": "code",
   "execution_count": 11,
   "id": "ffe9c397",
   "metadata": {},
   "outputs": [
    {
     "data": {
      "text/plain": [
       "tensor([0, 2, 4, 6, 8])"
      ]
     },
     "execution_count": 11,
     "metadata": {},
     "output_type": "execute_result"
    }
   ],
   "source": [
    "torch.arange(start=0, end=10, step=2)"
   ]
  },
  {
   "cell_type": "code",
   "execution_count": 12,
   "id": "f845439f",
   "metadata": {},
   "outputs": [
    {
     "data": {
      "text/plain": [
       "tensor([0.0000, 0.2500, 0.5000, 0.7500, 1.0000])"
      ]
     },
     "execution_count": 12,
     "metadata": {},
     "output_type": "execute_result"
    }
   ],
   "source": [
    "torch.linspace(start=0, end=1, steps=5) # same like numpy"
   ]
  },
  {
   "cell_type": "markdown",
   "id": "2c8ecda1",
   "metadata": {},
   "source": [
    "using matrix"
   ]
  },
  {
   "cell_type": "code",
   "execution_count": 13,
   "id": "47f1d6b6",
   "metadata": {},
   "outputs": [
    {
     "data": {
      "text/plain": [
       "tensor([[1., 0., 0.],\n",
       "        [0., 1., 0.],\n",
       "        [0., 0., 1.]])"
      ]
     },
     "execution_count": 13,
     "metadata": {},
     "output_type": "execute_result"
    }
   ],
   "source": [
    "torch.eye(3) # identity matrix"
   ]
  },
  {
   "cell_type": "markdown",
   "id": "794cc2c7",
   "metadata": {},
   "source": [
    "# Tensor Shapes"
   ]
  },
  {
   "cell_type": "code",
   "execution_count": 14,
   "id": "1259812e",
   "metadata": {},
   "outputs": [
    {
     "data": {
      "text/plain": [
       "(tensor([[1, 2, 3],\n",
       "         [4, 5, 6]]),\n",
       " torch.Size([2, 3]))"
      ]
     },
     "execution_count": 14,
     "metadata": {},
     "output_type": "execute_result"
    }
   ],
   "source": [
    "x = torch.tensor([[1, 2, 3], [4, 5, 6]])\n",
    "x, x.shape"
   ]
  },
  {
   "cell_type": "code",
   "execution_count": 15,
   "id": "f857933c",
   "metadata": {},
   "outputs": [
    {
     "data": {
      "text/plain": [
       "tensor([[0, 0, 0],\n",
       "        [0, 0, 0]])"
      ]
     },
     "execution_count": 15,
     "metadata": {},
     "output_type": "execute_result"
    }
   ],
   "source": [
    "torch.empty_like(x) # using x shape"
   ]
  },
  {
   "cell_type": "code",
   "execution_count": 16,
   "id": "b6ed5b93",
   "metadata": {},
   "outputs": [
    {
     "data": {
      "text/plain": [
       "tensor([[0, 0, 0],\n",
       "        [0, 0, 0]])"
      ]
     },
     "execution_count": 16,
     "metadata": {},
     "output_type": "execute_result"
    }
   ],
   "source": [
    "torch.zeros_like(x)"
   ]
  },
  {
   "cell_type": "code",
   "execution_count": 17,
   "id": "6cc9ee3f",
   "metadata": {},
   "outputs": [
    {
     "data": {
      "text/plain": [
       "tensor([[0.2627, 0.0428, 0.2080],\n",
       "        [0.1180, 0.1217, 0.7356]])"
      ]
     },
     "execution_count": 17,
     "metadata": {},
     "output_type": "execute_result"
    }
   ],
   "source": [
    "torch.rand_like(x, dtype=torch.float32) # to avoid error add dtype as float, since its returns float"
   ]
  },
  {
   "cell_type": "markdown",
   "id": "ae77b1e0",
   "metadata": {},
   "source": [
    "# Tensor Reshaping"
   ]
  },
  {
   "cell_type": "code",
   "execution_count": 18,
   "id": "eefcd8ad",
   "metadata": {},
   "outputs": [
    {
     "data": {
      "text/plain": [
       "tensor([[8, 8, 4, 4],\n",
       "        [1, 0, 4, 3],\n",
       "        [8, 7, 4, 6],\n",
       "        [0, 1, 9, 9]])"
      ]
     },
     "execution_count": 18,
     "metadata": {},
     "output_type": "execute_result"
    }
   ],
   "source": [
    "a = torch.randint(size=(4, 4), low=0, high=10)\n",
    "a"
   ]
  },
  {
   "cell_type": "markdown",
   "id": "e071e867",
   "metadata": {},
   "source": [
    "reshape"
   ]
  },
  {
   "cell_type": "code",
   "execution_count": 19,
   "id": "97431692",
   "metadata": {},
   "outputs": [
    {
     "data": {
      "text/plain": [
       "tensor([[[[8, 8],\n",
       "          [4, 4]],\n",
       "\n",
       "         [[1, 0],\n",
       "          [4, 3]]],\n",
       "\n",
       "\n",
       "        [[[8, 7],\n",
       "          [4, 6]],\n",
       "\n",
       "         [[0, 1],\n",
       "          [9, 9]]]])"
      ]
     },
     "execution_count": 19,
     "metadata": {},
     "output_type": "execute_result"
    }
   ],
   "source": [
    "a.reshape(2, 2, 2, 2)"
   ]
  },
  {
   "cell_type": "markdown",
   "id": "bdbd5b81",
   "metadata": {},
   "source": [
    "flatten"
   ]
  },
  {
   "cell_type": "code",
   "execution_count": 20,
   "id": "c9b03625",
   "metadata": {},
   "outputs": [
    {
     "data": {
      "text/plain": [
       "tensor([8, 8, 4, 4, 1, 0, 4, 3, 8, 7, 4, 6, 0, 1, 9, 9])"
      ]
     },
     "execution_count": 20,
     "metadata": {},
     "output_type": "execute_result"
    }
   ],
   "source": [
    "a.flatten()"
   ]
  },
  {
   "cell_type": "markdown",
   "id": "7cdedefd",
   "metadata": {},
   "source": [
    "permute"
   ]
  },
  {
   "cell_type": "code",
   "execution_count": 21,
   "id": "b3b1be18",
   "metadata": {},
   "outputs": [
    {
     "name": "stdout",
     "output_type": "stream",
     "text": [
      "b is tensor([[[ 0.7139, -0.4200,  0.6375,  0.5812],\n",
      "         [-1.7599,  1.0230, -0.1107, -0.3899],\n",
      "         [-0.3668, -0.4251, -1.2455,  1.1245]],\n",
      "\n",
      "        [[ 1.3302,  0.0544,  0.3736, -1.4024],\n",
      "         [ 1.0412, -0.8043, -0.6244, -0.5882],\n",
      "         [-0.7553, -0.9577, -2.1387, -1.2822]]]) and shape is torch.Size([2, 3, 4])\n"
     ]
    },
    {
     "data": {
      "text/plain": [
       "torch.Size([4, 2, 3])"
      ]
     },
     "execution_count": 21,
     "metadata": {},
     "output_type": "execute_result"
    }
   ],
   "source": [
    "b = torch.randn(2, 3, 4)\n",
    "print('b is', b, 'and shape is', b.shape)\n",
    "\n",
    "b.permute(2, 0, 1).shape # changes the dimension order by index\n"
   ]
  },
  {
   "cell_type": "markdown",
   "id": "46cec95b",
   "metadata": {},
   "source": [
    "unsqueeze & squeeze"
   ]
  },
  {
   "cell_type": "code",
   "execution_count": 22,
   "id": "d894b207",
   "metadata": {},
   "outputs": [
    {
     "data": {
      "text/plain": [
       "torch.Size([1, 256, 256, 3])"
      ]
     },
     "execution_count": 22,
     "metadata": {},
     "output_type": "execute_result"
    }
   ],
   "source": [
    "c = torch.rand(256, 256, 3) # height, width, color channels\n",
    "c.unsqueeze(0).shape # add batch dimension at index 0"
   ]
  },
  {
   "cell_type": "code",
   "execution_count": 23,
   "id": "d8c2d5a1",
   "metadata": {},
   "outputs": [
    {
     "name": "stdout",
     "output_type": "stream",
     "text": [
      "tensor([[0.8252, 0.3159, 0.4104, 0.3669, 0.3880]]) torch.Size([1, 5])\n"
     ]
    },
    {
     "data": {
      "text/plain": [
       "(tensor([0.8252, 0.3159, 0.4104, 0.3669, 0.3880]), torch.Size([5]))"
      ]
     },
     "execution_count": 23,
     "metadata": {},
     "output_type": "execute_result"
    }
   ],
   "source": [
    "d = torch.rand(1, 5)\n",
    "print(d, d.shape)\n",
    "d.squeeze_(0)\n",
    "d, d.shape"
   ]
  },
  {
   "cell_type": "markdown",
   "id": "45ee7077",
   "metadata": {},
   "source": [
    "# Tensor Data Type"
   ]
  },
  {
   "cell_type": "code",
   "execution_count": 24,
   "id": "1ee40503",
   "metadata": {},
   "outputs": [
    {
     "data": {
      "text/plain": [
       "torch.int64"
      ]
     },
     "execution_count": 24,
     "metadata": {},
     "output_type": "execute_result"
    }
   ],
   "source": [
    "x.dtype"
   ]
  },
  {
   "cell_type": "markdown",
   "id": "f3f44055",
   "metadata": {},
   "source": [
    "assign dtype"
   ]
  },
  {
   "cell_type": "code",
   "execution_count": 25,
   "id": "5a3406ec",
   "metadata": {},
   "outputs": [
    {
     "data": {
      "text/plain": [
       "tensor([1, 2, 3], dtype=torch.int32)"
      ]
     },
     "execution_count": 25,
     "metadata": {},
     "output_type": "execute_result"
    }
   ],
   "source": [
    "torch.tensor([1.0, 2.0, 3.0], dtype=torch.int32)"
   ]
  },
  {
   "cell_type": "code",
   "execution_count": 26,
   "id": "38dfdd92",
   "metadata": {},
   "outputs": [
    {
     "data": {
      "text/plain": [
       "tensor([1., 2., 3.], dtype=torch.float64)"
      ]
     },
     "execution_count": 26,
     "metadata": {},
     "output_type": "execute_result"
    }
   ],
   "source": [
    "torch.tensor([1, 2, 3], dtype=torch.float64)"
   ]
  },
  {
   "cell_type": "markdown",
   "id": "0b12ef37",
   "metadata": {},
   "source": [
    "changing dtype"
   ]
  },
  {
   "cell_type": "code",
   "execution_count": 27,
   "id": "852363c2",
   "metadata": {},
   "outputs": [
    {
     "name": "stdout",
     "output_type": "stream",
     "text": [
      "torch.int64\n"
     ]
    },
    {
     "data": {
      "text/plain": [
       "tensor([1., 2., 3.])"
      ]
     },
     "execution_count": 27,
     "metadata": {},
     "output_type": "execute_result"
    }
   ],
   "source": [
    "l = torch.tensor([1, 2, 3])\n",
    "print(l.dtype)\n",
    "l.to(torch.float32)"
   ]
  },
  {
   "cell_type": "markdown",
   "id": "430099c2",
   "metadata": {},
   "source": [
    "# Mathematical Operations"
   ]
  },
  {
   "cell_type": "code",
   "execution_count": 28,
   "id": "44eef0b3",
   "metadata": {},
   "outputs": [
    {
     "data": {
      "text/plain": [
       "tensor([[0.4139, 0.8138],\n",
       "        [0.8343, 0.9886]])"
      ]
     },
     "execution_count": 28,
     "metadata": {},
     "output_type": "execute_result"
    }
   ],
   "source": [
    "x = torch.rand(2, 2)\n",
    "x"
   ]
  },
  {
   "cell_type": "markdown",
   "id": "718227e6",
   "metadata": {},
   "source": [
    "scalar operations"
   ]
  },
  {
   "cell_type": "code",
   "execution_count": 29,
   "id": "dcd2027c",
   "metadata": {},
   "outputs": [
    {
     "data": {
      "text/plain": [
       "tensor([[0.1713, 0.6622],\n",
       "        [0.6961, 0.9773]])"
      ]
     },
     "execution_count": 29,
     "metadata": {},
     "output_type": "execute_result"
    }
   ],
   "source": [
    "# addition\n",
    "x + 2\n",
    "\n",
    "# subtraction\n",
    "x - 9.5\n",
    "\n",
    "# multiplication\n",
    "x * 3\n",
    "\n",
    "# division\n",
    "x / 2\n",
    "\n",
    "# int division\n",
    "x // 0.5\n",
    "\n",
    "# mod\n",
    "x % 0.7\n",
    "\n",
    "# power\n",
    "x ** 2"
   ]
  },
  {
   "cell_type": "markdown",
   "id": "0a6d9082",
   "metadata": {},
   "source": [
    "element-wise operations"
   ]
  },
  {
   "cell_type": "code",
   "execution_count": 30,
   "id": "0ada29b8",
   "metadata": {},
   "outputs": [
    {
     "data": {
      "text/plain": [
       "(tensor([[0.1998, 0.8756, 0.3590],\n",
       "         [0.0577, 0.3814, 0.2971]]),\n",
       " tensor([[0.4993, 0.8849, 0.8621],\n",
       "         [0.5653, 0.4300, 0.7539]]))"
      ]
     },
     "execution_count": 30,
     "metadata": {},
     "output_type": "execute_result"
    }
   ],
   "source": [
    "a = torch.rand(2, 3)\n",
    "b = torch.rand(2, 3)\n",
    "\n",
    "a, b"
   ]
  },
  {
   "cell_type": "code",
   "execution_count": 31,
   "id": "701b8086",
   "metadata": {},
   "outputs": [
    {
     "data": {
      "text/plain": [
       "tensor([[0.4475, 0.8891, 0.4135],\n",
       "        [0.1994, 0.6607, 0.4005]])"
      ]
     },
     "execution_count": 31,
     "metadata": {},
     "output_type": "execute_result"
    }
   ],
   "source": [
    "# add\n",
    "a + b\n",
    "\n",
    "# subtract\n",
    "a - b\n",
    "\n",
    "# multiply\n",
    "a * b\n",
    "\n",
    "# divide\n",
    "a / b\n",
    "\n",
    "# power\n",
    "a ** b"
   ]
  },
  {
   "cell_type": "markdown",
   "id": "1a5bc314",
   "metadata": {},
   "source": [
    "self-wise operations"
   ]
  },
  {
   "cell_type": "code",
   "execution_count": 32,
   "id": "57579433",
   "metadata": {},
   "outputs": [],
   "source": [
    "c = torch.tensor([1.2, -3.4, 5.6, -7.8])"
   ]
  },
  {
   "cell_type": "code",
   "execution_count": 33,
   "id": "53167bb0",
   "metadata": {},
   "outputs": [
    {
     "data": {
      "text/plain": [
       "tensor([1.2000, 3.4000, 5.6000, 7.8000])"
      ]
     },
     "execution_count": 33,
     "metadata": {},
     "output_type": "execute_result"
    }
   ],
   "source": [
    "torch.abs(c)"
   ]
  },
  {
   "cell_type": "code",
   "execution_count": 34,
   "id": "7e2199b5",
   "metadata": {},
   "outputs": [
    {
     "data": {
      "text/plain": [
       "tensor([-1.2000,  3.4000, -5.6000,  7.8000])"
      ]
     },
     "execution_count": 34,
     "metadata": {},
     "output_type": "execute_result"
    }
   ],
   "source": [
    "torch.neg(c)"
   ]
  },
  {
   "cell_type": "code",
   "execution_count": 35,
   "id": "3376b7fd",
   "metadata": {},
   "outputs": [
    {
     "data": {
      "text/plain": [
       "tensor([ 1., -3.,  6., -8.])"
      ]
     },
     "execution_count": 35,
     "metadata": {},
     "output_type": "execute_result"
    }
   ],
   "source": [
    "torch.round(c)"
   ]
  },
  {
   "cell_type": "code",
   "execution_count": 36,
   "id": "615bd53d",
   "metadata": {},
   "outputs": [
    {
     "data": {
      "text/plain": [
       "tensor([ 2., -3.,  6., -7.])"
      ]
     },
     "execution_count": 36,
     "metadata": {},
     "output_type": "execute_result"
    }
   ],
   "source": [
    "torch.ceil(c)"
   ]
  },
  {
   "cell_type": "code",
   "execution_count": 37,
   "id": "8800426a",
   "metadata": {},
   "outputs": [
    {
     "data": {
      "text/plain": [
       "tensor([ 1., -4.,  5., -8.])"
      ]
     },
     "execution_count": 37,
     "metadata": {},
     "output_type": "execute_result"
    }
   ],
   "source": [
    "torch.floor(c)"
   ]
  },
  {
   "cell_type": "code",
   "execution_count": 38,
   "id": "d280045a",
   "metadata": {},
   "outputs": [
    {
     "data": {
      "text/plain": [
       "tensor([ 1.2000, -1.0000,  5.0000, -1.0000])"
      ]
     },
     "execution_count": 38,
     "metadata": {},
     "output_type": "execute_result"
    }
   ],
   "source": [
    "torch.clamp(c, min=-1.0, max=5.0)"
   ]
  },
  {
   "cell_type": "markdown",
   "id": "440883a5",
   "metadata": {},
   "source": [
    "reduction operations"
   ]
  },
  {
   "cell_type": "code",
   "execution_count": 39,
   "id": "e10eae11",
   "metadata": {},
   "outputs": [
    {
     "data": {
      "text/plain": [
       "tensor([[0., 9., 0., 1., 5.],\n",
       "        [8., 1., 0., 7., 8.],\n",
       "        [3., 9., 0., 7., 5.],\n",
       "        [3., 6., 7., 8., 4.]])"
      ]
     },
     "execution_count": 39,
     "metadata": {},
     "output_type": "execute_result"
    }
   ],
   "source": [
    "d = torch.randint(size=(4,5), low=0, high=10, dtype=torch.float32)\n",
    "d"
   ]
  },
  {
   "cell_type": "code",
   "execution_count": 40,
   "id": "740a304c",
   "metadata": {},
   "outputs": [
    {
     "data": {
      "text/plain": [
       "tensor([15., 24., 24., 28.])"
      ]
     },
     "execution_count": 40,
     "metadata": {},
     "output_type": "execute_result"
    }
   ],
   "source": [
    "# sum\n",
    "torch.sum(d)\n",
    "# sum along columns\n",
    "torch.sum(d, dim=0)\n",
    "# sum along rows\n",
    "torch.sum(d, dim=1)"
   ]
  },
  {
   "cell_type": "code",
   "execution_count": 41,
   "id": "738e0a6b",
   "metadata": {},
   "outputs": [
    {
     "data": {
      "text/plain": [
       "tensor([3.0000, 4.8000, 4.8000, 5.6000])"
      ]
     },
     "execution_count": 41,
     "metadata": {},
     "output_type": "execute_result"
    }
   ],
   "source": [
    "# mean\n",
    "torch.mean(d)\n",
    "# mean along columns\n",
    "torch.mean(d, dim=0)\n",
    "# mean along rows\n",
    "torch.mean(d, dim=1)"
   ]
  },
  {
   "cell_type": "code",
   "execution_count": 42,
   "id": "d85f7494",
   "metadata": {},
   "outputs": [
    {
     "data": {
      "text/plain": [
       "torch.return_types.median(\n",
       "values=tensor([1., 7., 5., 6.]),\n",
       "indices=tensor([3, 3, 4, 1]))"
      ]
     },
     "execution_count": 42,
     "metadata": {},
     "output_type": "execute_result"
    }
   ],
   "source": [
    "# median\n",
    "torch.median(d)\n",
    "# median along columns\n",
    "torch.median(d, dim=0)\n",
    "# median along rows\n",
    "torch.median(d, dim=1)"
   ]
  },
  {
   "cell_type": "code",
   "execution_count": 43,
   "id": "e1ddeb61",
   "metadata": {},
   "outputs": [
    {
     "data": {
      "text/plain": [
       "(tensor(0.), tensor(9.))"
      ]
     },
     "execution_count": 43,
     "metadata": {},
     "output_type": "execute_result"
    }
   ],
   "source": [
    "# min & max\n",
    "torch.min(d), torch.max(d)"
   ]
  },
  {
   "cell_type": "code",
   "execution_count": 44,
   "id": "678f4355",
   "metadata": {},
   "outputs": [
    {
     "data": {
      "text/plain": [
       "(tensor(0), tensor(1))"
      ]
     },
     "execution_count": 44,
     "metadata": {},
     "output_type": "execute_result"
    }
   ],
   "source": [
    "# argmin & argmax\n",
    "torch.argmin(d), torch.argmax(d)"
   ]
  },
  {
   "cell_type": "code",
   "execution_count": 45,
   "id": "20266519",
   "metadata": {},
   "outputs": [
    {
     "data": {
      "text/plain": [
       "tensor(0.)"
      ]
     },
     "execution_count": 45,
     "metadata": {},
     "output_type": "execute_result"
    }
   ],
   "source": [
    "# prod\n",
    "torch.prod(d)"
   ]
  },
  {
   "cell_type": "code",
   "execution_count": 46,
   "id": "2f01dc25",
   "metadata": {},
   "outputs": [
    {
     "data": {
      "text/plain": [
       "(tensor(3.3162), tensor(10.9974))"
      ]
     },
     "execution_count": 46,
     "metadata": {},
     "output_type": "execute_result"
    }
   ],
   "source": [
    "# std & var\n",
    "torch.std(d), torch.var(d)"
   ]
  },
  {
   "cell_type": "markdown",
   "id": "a99789f6",
   "metadata": {},
   "source": [
    "matrix operations"
   ]
  },
  {
   "cell_type": "code",
   "execution_count": 47,
   "id": "14f5e53b",
   "metadata": {},
   "outputs": [
    {
     "data": {
      "text/plain": [
       "(tensor([[6., 2., 6.],\n",
       "         [5., 3., 2.]]),\n",
       " tensor([[7., 7., 5., 9.],\n",
       "         [5., 9., 2., 2.],\n",
       "         [8., 3., 7., 4.]]))"
      ]
     },
     "execution_count": 47,
     "metadata": {},
     "output_type": "execute_result"
    }
   ],
   "source": [
    "m = torch.randint(size=(2,3), low=0, high=10, dtype=torch.float32)\n",
    "n = torch.randint(size=(3,4), low=0, high=10, dtype=torch.float32)\n",
    "\n",
    "m, n"
   ]
  },
  {
   "cell_type": "code",
   "execution_count": 48,
   "id": "437e0b4a",
   "metadata": {},
   "outputs": [
    {
     "data": {
      "text/plain": [
       "tensor([[100.,  78.,  76.,  82.],\n",
       "        [ 66.,  68.,  45.,  59.]])"
      ]
     },
     "execution_count": 48,
     "metadata": {},
     "output_type": "execute_result"
    }
   ],
   "source": [
    "# matrix mul\n",
    "torch.matmul(m, n)"
   ]
  },
  {
   "cell_type": "code",
   "execution_count": 49,
   "id": "0c902d0c",
   "metadata": {},
   "outputs": [
    {
     "data": {
      "text/plain": [
       "tensor(25)"
      ]
     },
     "execution_count": 49,
     "metadata": {},
     "output_type": "execute_result"
    }
   ],
   "source": [
    "# matrix dot-product\n",
    "v1 = torch.tensor([1, 2])\n",
    "v2 = torch.tensor([7, 9])\n",
    "\n",
    "torch.dot(v1, v2)"
   ]
  },
  {
   "cell_type": "code",
   "execution_count": 50,
   "id": "c840b278",
   "metadata": {},
   "outputs": [
    {
     "data": {
      "text/plain": [
       "tensor([[6., 5.],\n",
       "        [2., 3.],\n",
       "        [6., 2.]])"
      ]
     },
     "execution_count": 50,
     "metadata": {},
     "output_type": "execute_result"
    }
   ],
   "source": [
    "# transpose\n",
    "torch.transpose(m, dim0=0, dim1=1) # dim0 swaps with dim1"
   ]
  },
  {
   "cell_type": "code",
   "execution_count": 51,
   "id": "51a739e1",
   "metadata": {},
   "outputs": [
    {
     "data": {
      "text/plain": [
       "tensor(6.)"
      ]
     },
     "execution_count": 51,
     "metadata": {},
     "output_type": "execute_result"
    }
   ],
   "source": [
    "# determinant\n",
    "p = torch.randint(size=(2,2), low=0, high=10, dtype=torch.float32)\n",
    "\n",
    "torch.det(p)"
   ]
  },
  {
   "cell_type": "code",
   "execution_count": 52,
   "id": "426081b5",
   "metadata": {},
   "outputs": [
    {
     "data": {
      "text/plain": [
       "tensor([[ 0.2500, -0.0556],\n",
       "        [-0.2500,  0.1667]])"
      ]
     },
     "execution_count": 52,
     "metadata": {},
     "output_type": "execute_result"
    }
   ],
   "source": [
    "# inverse\n",
    "p = torch.randint(size=(2,2), low=0, high=10, dtype=torch.float32)\n",
    "\n",
    "torch.inverse(p)"
   ]
  },
  {
   "cell_type": "markdown",
   "id": "403ef00d",
   "metadata": {},
   "source": [
    "comparision operations"
   ]
  },
  {
   "cell_type": "code",
   "execution_count": 53,
   "id": "140adc5d",
   "metadata": {},
   "outputs": [
    {
     "data": {
      "text/plain": [
       "(tensor([[3., 5.],\n",
       "         [2., 5.]]),\n",
       " tensor([[6., 9.],\n",
       "         [8., 6.]]))"
      ]
     },
     "execution_count": 53,
     "metadata": {},
     "output_type": "execute_result"
    }
   ],
   "source": [
    "p = torch.randint(size=(2,2), low=0, high=10, dtype=torch.float32)\n",
    "q = torch.randint(size=(2,2), low=0, high=10, dtype=torch.float32)\n",
    "\n",
    "p, q"
   ]
  },
  {
   "cell_type": "code",
   "execution_count": 54,
   "id": "e5bfb4e5",
   "metadata": {},
   "outputs": [
    {
     "data": {
      "text/plain": [
       "tensor([[True, True],\n",
       "        [True, True]])"
      ]
     },
     "execution_count": 54,
     "metadata": {},
     "output_type": "execute_result"
    }
   ],
   "source": [
    "# greater than\n",
    "p > q\n",
    "\n",
    "# less than\n",
    "p < q\n",
    "\n",
    "# equal to\n",
    "p == q\n",
    "\n",
    "# not equal to\n",
    "p != q\n",
    "\n",
    "# greater than eual to\n",
    "p >= q\n",
    "\n",
    "# less than eual to\n",
    "p <= q"
   ]
  },
  {
   "cell_type": "markdown",
   "id": "141ebd32",
   "metadata": {},
   "source": [
    "special functions"
   ]
  },
  {
   "cell_type": "code",
   "execution_count": 55,
   "id": "30a2d669",
   "metadata": {},
   "outputs": [
    {
     "data": {
      "text/plain": [
       "tensor([[4., 1., 9.],\n",
       "        [0., 6., 3.]])"
      ]
     },
     "execution_count": 55,
     "metadata": {},
     "output_type": "execute_result"
    }
   ],
   "source": [
    "k = torch.randint(size=(2,3), low=0, high=10, dtype=torch.float32)\n",
    "k"
   ]
  },
  {
   "cell_type": "code",
   "execution_count": 56,
   "id": "131218af",
   "metadata": {},
   "outputs": [
    {
     "data": {
      "text/plain": [
       "(tensor([[1.3863, 0.0000, 2.1972],\n",
       "         [  -inf, 1.7918, 1.0986]]),\n",
       " tensor([[5.4598e+01, 2.7183e+00, 8.1031e+03],\n",
       "         [1.0000e+00, 4.0343e+02, 2.0086e+01]]))"
      ]
     },
     "execution_count": 56,
     "metadata": {},
     "output_type": "execute_result"
    }
   ],
   "source": [
    "# log & exp\n",
    "torch.log(k), torch.exp(k)"
   ]
  },
  {
   "cell_type": "code",
   "execution_count": 57,
   "id": "8a50016d",
   "metadata": {},
   "outputs": [
    {
     "data": {
      "text/plain": [
       "tensor([[2.0000, 1.0000, 3.0000],\n",
       "        [0.0000, 2.4495, 1.7321]])"
      ]
     },
     "execution_count": 57,
     "metadata": {},
     "output_type": "execute_result"
    }
   ],
   "source": [
    "# sqrt\n",
    "torch.sqrt(k)"
   ]
  },
  {
   "cell_type": "code",
   "execution_count": 58,
   "id": "7d7c056f",
   "metadata": {},
   "outputs": [
    {
     "data": {
      "text/plain": [
       "(tensor([[0.9820, 0.7311, 0.9999],\n",
       "         [0.5000, 0.9975, 0.9526]]),\n",
       " tensor([[6.6906e-03, 3.3311e-04, 9.9298e-01],\n",
       "         [2.3556e-03, 9.5033e-01, 4.7314e-02]]),\n",
       " tensor([[4., 1., 9.],\n",
       "         [0., 6., 3.]]))"
      ]
     },
     "execution_count": 58,
     "metadata": {},
     "output_type": "execute_result"
    }
   ],
   "source": [
    "# sigmoid, softmax, relu\n",
    "torch.sigmoid(k), torch.softmax(k, dim=1), torch.relu(k)"
   ]
  },
  {
   "cell_type": "markdown",
   "id": "3885380f",
   "metadata": {},
   "source": [
    "inplace operations"
   ]
  },
  {
   "cell_type": "code",
   "execution_count": 59,
   "id": "fd84ccb5",
   "metadata": {},
   "outputs": [
    {
     "data": {
      "text/plain": [
       "(tensor([[8, 3, 0],\n",
       "         [3, 2, 5]]),\n",
       " tensor([[0, 0, 3],\n",
       "         [1, 1, 4]]))"
      ]
     },
     "execution_count": 59,
     "metadata": {},
     "output_type": "execute_result"
    }
   ],
   "source": [
    "u = torch.randint(size=(2,3), low=0, high=10)\n",
    "v = torch.randint(size=(2,3), low=0, high=10)\n",
    "u, v"
   ]
  },
  {
   "cell_type": "code",
   "execution_count": 60,
   "id": "36957aef",
   "metadata": {},
   "outputs": [
    {
     "data": {
      "text/plain": [
       "(tensor([[8, 3, 3],\n",
       "         [4, 3, 9]]),\n",
       " tensor([[8, 3, 3],\n",
       "         [4, 3, 9]]))"
      ]
     },
     "execution_count": 60,
     "metadata": {},
     "output_type": "execute_result"
    }
   ],
   "source": [
    "u.add_(v), u  # inplace addition, sometimes to save memory, we are saving results in the prime tensor itself"
   ]
  },
  {
   "cell_type": "markdown",
   "id": "9a36f105",
   "metadata": {},
   "source": []
  },
  {
   "cell_type": "markdown",
   "id": "743f6c4b",
   "metadata": {},
   "source": [
    "# Tensor on GPU"
   ]
  },
  {
   "cell_type": "code",
   "execution_count": null,
   "id": "c884ea20",
   "metadata": {},
   "outputs": [],
   "source": []
  }
 ],
 "metadata": {
  "kernelspec": {
   "display_name": "EnvPT",
   "language": "python",
   "name": "python3"
  },
  "language_info": {
   "codemirror_mode": {
    "name": "ipython",
    "version": 3
   },
   "file_extension": ".py",
   "mimetype": "text/x-python",
   "name": "python",
   "nbconvert_exporter": "python",
   "pygments_lexer": "ipython3",
   "version": "3.12.12"
  }
 },
 "nbformat": 4,
 "nbformat_minor": 5
}
