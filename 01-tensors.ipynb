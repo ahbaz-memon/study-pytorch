{
 "cells": [
  {
   "cell_type": "markdown",
   "id": "33bd8c8e",
   "metadata": {},
   "source": [
    "# Imports"
   ]
  },
  {
   "cell_type": "code",
   "execution_count": 1,
   "id": "564f4ef8",
   "metadata": {},
   "outputs": [
    {
     "data": {
      "text/plain": [
       "'2.5.1'"
      ]
     },
     "execution_count": 1,
     "metadata": {},
     "output_type": "execute_result"
    }
   ],
   "source": [
    "import torch\n",
    "torch.__version__"
   ]
  },
  {
   "cell_type": "code",
   "execution_count": 2,
   "id": "f33b1e16",
   "metadata": {},
   "outputs": [
    {
     "name": "stdout",
     "output_type": "stream",
     "text": [
      "CUDA is available, and using NVIDIA GeForce GTX 1660 Ti\n"
     ]
    }
   ],
   "source": [
    "if torch.cuda.is_available():\n",
    "    print(\"CUDA is available, and using\", torch.cuda.get_device_name(0))\n",
    "else:\n",
    "    print(\"CUDA is not available, using CPU only.\")"
   ]
  },
  {
   "cell_type": "markdown",
   "id": "0bc2265e",
   "metadata": {},
   "source": [
    "# Creating Tensor"
   ]
  },
  {
   "cell_type": "markdown",
   "id": "bd706cd6",
   "metadata": {},
   "source": [
    "using empty"
   ]
  },
  {
   "cell_type": "code",
   "execution_count": 3,
   "id": "f63df409",
   "metadata": {},
   "outputs": [
    {
     "data": {
      "text/plain": [
       "tensor([[0., 0., 0.],\n",
       "        [0., 0., 0.]])"
      ]
     },
     "execution_count": 3,
     "metadata": {},
     "output_type": "execute_result"
    }
   ],
   "source": [
    "a = torch.empty(2, 3)\n",
    "a"
   ]
  },
  {
   "cell_type": "code",
   "execution_count": 4,
   "id": "415cf313",
   "metadata": {},
   "outputs": [
    {
     "data": {
      "text/plain": [
       "torch.Tensor"
      ]
     },
     "execution_count": 4,
     "metadata": {},
     "output_type": "execute_result"
    }
   ],
   "source": [
    "type(a)"
   ]
  },
  {
   "cell_type": "markdown",
   "id": "cd9b58a3",
   "metadata": {},
   "source": [
    "using zeros"
   ]
  },
  {
   "cell_type": "code",
   "execution_count": 5,
   "id": "1281a3dc",
   "metadata": {},
   "outputs": [
    {
     "data": {
      "text/plain": [
       "tensor([[0., 0., 0.],\n",
       "        [0., 0., 0.]])"
      ]
     },
     "execution_count": 5,
     "metadata": {},
     "output_type": "execute_result"
    }
   ],
   "source": [
    "torch.zeros(2, 3)"
   ]
  },
  {
   "cell_type": "markdown",
   "id": "3b16e604",
   "metadata": {},
   "source": [
    "using ones"
   ]
  },
  {
   "cell_type": "code",
   "execution_count": 6,
   "id": "e87bb923",
   "metadata": {},
   "outputs": [
    {
     "data": {
      "text/plain": [
       "tensor([[1., 1., 1.],\n",
       "        [1., 1., 1.],\n",
       "        [1., 1., 1.]])"
      ]
     },
     "execution_count": 6,
     "metadata": {},
     "output_type": "execute_result"
    }
   ],
   "source": [
    "torch.ones(3, 3)"
   ]
  },
  {
   "cell_type": "markdown",
   "id": "26ddc22b",
   "metadata": {},
   "source": [
    "using full"
   ]
  },
  {
   "cell_type": "code",
   "execution_count": 7,
   "id": "34960afb",
   "metadata": {},
   "outputs": [
    {
     "data": {
      "text/plain": [
       "tensor([[9, 9, 9],\n",
       "        [9, 9, 9]])"
      ]
     },
     "execution_count": 7,
     "metadata": {},
     "output_type": "execute_result"
    }
   ],
   "source": [
    "torch.full((2, 3), 9) # numpy full_like"
   ]
  },
  {
   "cell_type": "markdown",
   "id": "ff5ef8ad",
   "metadata": {},
   "source": [
    "using random"
   ]
  },
  {
   "cell_type": "code",
   "execution_count": 8,
   "id": "53c47ae2",
   "metadata": {},
   "outputs": [
    {
     "data": {
      "text/plain": [
       "tensor([[0.5480, 0.6349, 0.8079],\n",
       "        [0.3529, 0.7291, 0.1094]])"
      ]
     },
     "execution_count": 8,
     "metadata": {},
     "output_type": "execute_result"
    }
   ],
   "source": [
    "torch.rand(2, 3) # every run, different random numbers"
   ]
  },
  {
   "cell_type": "code",
   "execution_count": 9,
   "id": "3c67a4be",
   "metadata": {},
   "outputs": [
    {
     "data": {
      "text/plain": [
       "tensor([[0.1117, 0.8158, 0.2626],\n",
       "        [0.4839, 0.6765, 0.7539]])"
      ]
     },
     "execution_count": 9,
     "metadata": {},
     "output_type": "execute_result"
    }
   ],
   "source": [
    "torch.manual_seed(100) # for reproducibility\n",
    "torch.rand(2, 3) # every run, same random numbers"
   ]
  },
  {
   "cell_type": "markdown",
   "id": "9aa820d8",
   "metadata": {},
   "source": [
    "custom tensor"
   ]
  },
  {
   "cell_type": "code",
   "execution_count": 10,
   "id": "72b90c2d",
   "metadata": {},
   "outputs": [
    {
     "data": {
      "text/plain": [
       "tensor([[1, 2, 3],\n",
       "        [4, 5, 6]])"
      ]
     },
     "execution_count": 10,
     "metadata": {},
     "output_type": "execute_result"
    }
   ],
   "source": [
    "torch.tensor([[1, 2, 3], [4, 5, 6]])"
   ]
  },
  {
   "cell_type": "markdown",
   "id": "abcb3a86",
   "metadata": {},
   "source": [
    "using range"
   ]
  },
  {
   "cell_type": "code",
   "execution_count": 11,
   "id": "ffe9c397",
   "metadata": {},
   "outputs": [
    {
     "data": {
      "text/plain": [
       "tensor([0, 2, 4, 6, 8])"
      ]
     },
     "execution_count": 11,
     "metadata": {},
     "output_type": "execute_result"
    }
   ],
   "source": [
    "torch.arange(start=0, end=10, step=2)"
   ]
  },
  {
   "cell_type": "code",
   "execution_count": 12,
   "id": "f845439f",
   "metadata": {},
   "outputs": [
    {
     "data": {
      "text/plain": [
       "tensor([0.0000, 0.2500, 0.5000, 0.7500, 1.0000])"
      ]
     },
     "execution_count": 12,
     "metadata": {},
     "output_type": "execute_result"
    }
   ],
   "source": [
    "torch.linspace(start=0, end=1, steps=5) # same like numpy"
   ]
  },
  {
   "cell_type": "markdown",
   "id": "2c8ecda1",
   "metadata": {},
   "source": [
    "using matrix"
   ]
  },
  {
   "cell_type": "code",
   "execution_count": 13,
   "id": "47f1d6b6",
   "metadata": {},
   "outputs": [
    {
     "data": {
      "text/plain": [
       "tensor([[1., 0., 0.],\n",
       "        [0., 1., 0.],\n",
       "        [0., 0., 1.]])"
      ]
     },
     "execution_count": 13,
     "metadata": {},
     "output_type": "execute_result"
    }
   ],
   "source": [
    "torch.eye(3) # identity matrix"
   ]
  },
  {
   "cell_type": "markdown",
   "id": "794cc2c7",
   "metadata": {},
   "source": [
    "# Tensor Shapes"
   ]
  },
  {
   "cell_type": "code",
   "execution_count": 14,
   "id": "1259812e",
   "metadata": {},
   "outputs": [
    {
     "data": {
      "text/plain": [
       "(tensor([[1, 2, 3],\n",
       "         [4, 5, 6]]),\n",
       " torch.Size([2, 3]))"
      ]
     },
     "execution_count": 14,
     "metadata": {},
     "output_type": "execute_result"
    }
   ],
   "source": [
    "x = torch.tensor([[1, 2, 3], [4, 5, 6]])\n",
    "x, x.shape"
   ]
  },
  {
   "cell_type": "code",
   "execution_count": 15,
   "id": "f857933c",
   "metadata": {},
   "outputs": [
    {
     "data": {
      "text/plain": [
       "tensor([[0, 0, 0],\n",
       "        [0, 0, 0]])"
      ]
     },
     "execution_count": 15,
     "metadata": {},
     "output_type": "execute_result"
    }
   ],
   "source": [
    "torch.empty_like(x) # using x shape"
   ]
  },
  {
   "cell_type": "code",
   "execution_count": 16,
   "id": "b6ed5b93",
   "metadata": {},
   "outputs": [
    {
     "data": {
      "text/plain": [
       "tensor([[0, 0, 0],\n",
       "        [0, 0, 0]])"
      ]
     },
     "execution_count": 16,
     "metadata": {},
     "output_type": "execute_result"
    }
   ],
   "source": [
    "torch.zeros_like(x)"
   ]
  },
  {
   "cell_type": "code",
   "execution_count": 17,
   "id": "6cc9ee3f",
   "metadata": {},
   "outputs": [
    {
     "data": {
      "text/plain": [
       "tensor([[0.2627, 0.0428, 0.2080],\n",
       "        [0.1180, 0.1217, 0.7356]])"
      ]
     },
     "execution_count": 17,
     "metadata": {},
     "output_type": "execute_result"
    }
   ],
   "source": [
    "torch.rand_like(x, dtype=torch.float32) # to avoid error add dtype as float, since its returns float"
   ]
  },
  {
   "cell_type": "markdown",
   "id": "45ee7077",
   "metadata": {},
   "source": [
    "# Tensor Data Type"
   ]
  },
  {
   "cell_type": "code",
   "execution_count": 18,
   "id": "1ee40503",
   "metadata": {},
   "outputs": [
    {
     "data": {
      "text/plain": [
       "torch.int64"
      ]
     },
     "execution_count": 18,
     "metadata": {},
     "output_type": "execute_result"
    }
   ],
   "source": [
    "x.dtype"
   ]
  },
  {
   "cell_type": "markdown",
   "id": "f3f44055",
   "metadata": {},
   "source": [
    "assign dtype"
   ]
  },
  {
   "cell_type": "code",
   "execution_count": 19,
   "id": "5a3406ec",
   "metadata": {},
   "outputs": [
    {
     "data": {
      "text/plain": [
       "tensor([1, 2, 3], dtype=torch.int32)"
      ]
     },
     "execution_count": 19,
     "metadata": {},
     "output_type": "execute_result"
    }
   ],
   "source": [
    "torch.tensor([1.0, 2.0, 3.0], dtype=torch.int32)"
   ]
  },
  {
   "cell_type": "code",
   "execution_count": 20,
   "id": "38dfdd92",
   "metadata": {},
   "outputs": [
    {
     "data": {
      "text/plain": [
       "tensor([1., 2., 3.], dtype=torch.float64)"
      ]
     },
     "execution_count": 20,
     "metadata": {},
     "output_type": "execute_result"
    }
   ],
   "source": [
    "torch.tensor([1, 2, 3], dtype=torch.float64)"
   ]
  },
  {
   "cell_type": "markdown",
   "id": "0b12ef37",
   "metadata": {},
   "source": [
    "changing dtype"
   ]
  },
  {
   "cell_type": "code",
   "execution_count": 21,
   "id": "852363c2",
   "metadata": {},
   "outputs": [
    {
     "name": "stdout",
     "output_type": "stream",
     "text": [
      "torch.int64\n"
     ]
    },
    {
     "data": {
      "text/plain": [
       "tensor([1., 2., 3.])"
      ]
     },
     "execution_count": 21,
     "metadata": {},
     "output_type": "execute_result"
    }
   ],
   "source": [
    "l = torch.tensor([1, 2, 3])\n",
    "print(l.dtype)\n",
    "l.to(torch.float32)"
   ]
  },
  {
   "cell_type": "markdown",
   "id": "430099c2",
   "metadata": {},
   "source": [
    "# Mathematical Operations"
   ]
  },
  {
   "cell_type": "code",
   "execution_count": 22,
   "id": "44eef0b3",
   "metadata": {},
   "outputs": [
    {
     "data": {
      "text/plain": [
       "tensor([[0.7118, 0.7876],\n",
       "        [0.4183, 0.9014]])"
      ]
     },
     "execution_count": 22,
     "metadata": {},
     "output_type": "execute_result"
    }
   ],
   "source": [
    "x = torch.rand(2, 2)\n",
    "x"
   ]
  },
  {
   "cell_type": "markdown",
   "id": "718227e6",
   "metadata": {},
   "source": [
    "scalar operations"
   ]
  },
  {
   "cell_type": "code",
   "execution_count": 23,
   "id": "dcd2027c",
   "metadata": {},
   "outputs": [
    {
     "data": {
      "text/plain": [
       "tensor([[0.5066, 0.6203],\n",
       "        [0.1750, 0.8125]])"
      ]
     },
     "execution_count": 23,
     "metadata": {},
     "output_type": "execute_result"
    }
   ],
   "source": [
    "# addition\n",
    "x + 2\n",
    "\n",
    "# subtraction\n",
    "x - 9.5\n",
    "\n",
    "# multiplication\n",
    "x * 3\n",
    "\n",
    "# division\n",
    "x / 2\n",
    "\n",
    "# int division\n",
    "x // 0.5\n",
    "\n",
    "# mod\n",
    "x % 0.7\n",
    "\n",
    "# power\n",
    "x ** 2"
   ]
  },
  {
   "cell_type": "markdown",
   "id": "0a6d9082",
   "metadata": {},
   "source": [
    "element-wise operations"
   ]
  },
  {
   "cell_type": "code",
   "execution_count": 24,
   "id": "0ada29b8",
   "metadata": {},
   "outputs": [
    {
     "data": {
      "text/plain": [
       "(tensor([[0.9969, 0.7565, 0.2239],\n",
       "         [0.3023, 0.1784, 0.8238]]),\n",
       " tensor([[0.5557, 0.9770, 0.4440],\n",
       "         [0.9478, 0.7445, 0.4892]]))"
      ]
     },
     "execution_count": 24,
     "metadata": {},
     "output_type": "execute_result"
    }
   ],
   "source": [
    "a = torch.rand(2, 3)\n",
    "b = torch.rand(2, 3)\n",
    "\n",
    "a, b"
   ]
  },
  {
   "cell_type": "code",
   "execution_count": 25,
   "id": "701b8086",
   "metadata": {},
   "outputs": [
    {
     "data": {
      "text/plain": [
       "tensor([[0.9983, 0.7614, 0.5145],\n",
       "        [0.3218, 0.2771, 0.9096]])"
      ]
     },
     "execution_count": 25,
     "metadata": {},
     "output_type": "execute_result"
    }
   ],
   "source": [
    "# add\n",
    "a + b\n",
    "\n",
    "# subtract\n",
    "a - b\n",
    "\n",
    "# multiply\n",
    "a * b\n",
    "\n",
    "# divide\n",
    "a / b\n",
    "\n",
    "# power\n",
    "a ** b"
   ]
  },
  {
   "cell_type": "markdown",
   "id": "1a5bc314",
   "metadata": {},
   "source": [
    "self-wise operations"
   ]
  },
  {
   "cell_type": "code",
   "execution_count": 26,
   "id": "57579433",
   "metadata": {},
   "outputs": [],
   "source": [
    "c = torch.tensor([1.2, -3.4, 5.6, -7.8])"
   ]
  },
  {
   "cell_type": "code",
   "execution_count": 27,
   "id": "53167bb0",
   "metadata": {},
   "outputs": [
    {
     "data": {
      "text/plain": [
       "tensor([1.2000, 3.4000, 5.6000, 7.8000])"
      ]
     },
     "execution_count": 27,
     "metadata": {},
     "output_type": "execute_result"
    }
   ],
   "source": [
    "torch.abs(c)"
   ]
  },
  {
   "cell_type": "code",
   "execution_count": 28,
   "id": "7e2199b5",
   "metadata": {},
   "outputs": [
    {
     "data": {
      "text/plain": [
       "tensor([-1.2000,  3.4000, -5.6000,  7.8000])"
      ]
     },
     "execution_count": 28,
     "metadata": {},
     "output_type": "execute_result"
    }
   ],
   "source": [
    "torch.neg(c)"
   ]
  },
  {
   "cell_type": "code",
   "execution_count": 29,
   "id": "3376b7fd",
   "metadata": {},
   "outputs": [
    {
     "data": {
      "text/plain": [
       "tensor([ 1., -3.,  6., -8.])"
      ]
     },
     "execution_count": 29,
     "metadata": {},
     "output_type": "execute_result"
    }
   ],
   "source": [
    "torch.round(c)"
   ]
  },
  {
   "cell_type": "code",
   "execution_count": 30,
   "id": "615bd53d",
   "metadata": {},
   "outputs": [
    {
     "data": {
      "text/plain": [
       "tensor([ 2., -3.,  6., -7.])"
      ]
     },
     "execution_count": 30,
     "metadata": {},
     "output_type": "execute_result"
    }
   ],
   "source": [
    "torch.ceil(c)"
   ]
  },
  {
   "cell_type": "code",
   "execution_count": 31,
   "id": "8800426a",
   "metadata": {},
   "outputs": [
    {
     "data": {
      "text/plain": [
       "tensor([ 1., -4.,  5., -8.])"
      ]
     },
     "execution_count": 31,
     "metadata": {},
     "output_type": "execute_result"
    }
   ],
   "source": [
    "torch.floor(c)"
   ]
  },
  {
   "cell_type": "code",
   "execution_count": 32,
   "id": "d280045a",
   "metadata": {},
   "outputs": [
    {
     "data": {
      "text/plain": [
       "tensor([ 1.2000, -1.0000,  5.0000, -1.0000])"
      ]
     },
     "execution_count": 32,
     "metadata": {},
     "output_type": "execute_result"
    }
   ],
   "source": [
    "torch.clamp(c, min=-1.0, max=5.0)"
   ]
  },
  {
   "cell_type": "markdown",
   "id": "440883a5",
   "metadata": {},
   "source": [
    "reduction operations"
   ]
  },
  {
   "cell_type": "code",
   "execution_count": 33,
   "id": "e10eae11",
   "metadata": {},
   "outputs": [
    {
     "data": {
      "text/plain": [
       "tensor([[8., 0., 7., 0., 0.],\n",
       "        [9., 5., 7., 3., 9.],\n",
       "        [4., 0., 5., 7., 5.],\n",
       "        [9., 9., 7., 5., 9.]])"
      ]
     },
     "execution_count": 33,
     "metadata": {},
     "output_type": "execute_result"
    }
   ],
   "source": [
    "d = torch.randint(size=(4,5), low=0, high=10, dtype=torch.float32)\n",
    "d"
   ]
  },
  {
   "cell_type": "code",
   "execution_count": 34,
   "id": "740a304c",
   "metadata": {},
   "outputs": [
    {
     "data": {
      "text/plain": [
       "tensor([15., 33., 21., 39.])"
      ]
     },
     "execution_count": 34,
     "metadata": {},
     "output_type": "execute_result"
    }
   ],
   "source": [
    "# sum\n",
    "torch.sum(d)\n",
    "# sum along columns\n",
    "torch.sum(d, dim=0)\n",
    "# sum along rows\n",
    "torch.sum(d, dim=1)"
   ]
  },
  {
   "cell_type": "code",
   "execution_count": 35,
   "id": "738e0a6b",
   "metadata": {},
   "outputs": [
    {
     "data": {
      "text/plain": [
       "tensor([3.0000, 6.6000, 4.2000, 7.8000])"
      ]
     },
     "execution_count": 35,
     "metadata": {},
     "output_type": "execute_result"
    }
   ],
   "source": [
    "# mean\n",
    "torch.mean(d)\n",
    "# mean along columns\n",
    "torch.mean(d, dim=0)\n",
    "# mean along rows\n",
    "torch.mean(d, dim=1)"
   ]
  },
  {
   "cell_type": "code",
   "execution_count": 36,
   "id": "d85f7494",
   "metadata": {},
   "outputs": [
    {
     "data": {
      "text/plain": [
       "torch.return_types.median(\n",
       "values=tensor([0., 7., 5., 9.]),\n",
       "indices=tensor([4, 2, 2, 0]))"
      ]
     },
     "execution_count": 36,
     "metadata": {},
     "output_type": "execute_result"
    }
   ],
   "source": [
    "# median\n",
    "torch.median(d)\n",
    "# median along columns\n",
    "torch.median(d, dim=0)\n",
    "# median along rows\n",
    "torch.median(d, dim=1)"
   ]
  },
  {
   "cell_type": "code",
   "execution_count": 37,
   "id": "e1ddeb61",
   "metadata": {},
   "outputs": [
    {
     "data": {
      "text/plain": [
       "(tensor(0.), tensor(9.))"
      ]
     },
     "execution_count": 37,
     "metadata": {},
     "output_type": "execute_result"
    }
   ],
   "source": [
    "# min & max\n",
    "torch.min(d), torch.max(d)"
   ]
  },
  {
   "cell_type": "code",
   "execution_count": 38,
   "id": "678f4355",
   "metadata": {},
   "outputs": [
    {
     "data": {
      "text/plain": [
       "(tensor(1), tensor(5))"
      ]
     },
     "execution_count": 38,
     "metadata": {},
     "output_type": "execute_result"
    }
   ],
   "source": [
    "# argmin & argmax\n",
    "torch.argmin(d), torch.argmax(d)"
   ]
  },
  {
   "cell_type": "code",
   "execution_count": 39,
   "id": "20266519",
   "metadata": {},
   "outputs": [
    {
     "data": {
      "text/plain": [
       "tensor(0.)"
      ]
     },
     "execution_count": 39,
     "metadata": {},
     "output_type": "execute_result"
    }
   ],
   "source": [
    "# prod\n",
    "torch.prod(d)"
   ]
  },
  {
   "cell_type": "code",
   "execution_count": 40,
   "id": "2f01dc25",
   "metadata": {},
   "outputs": [
    {
     "data": {
      "text/plain": [
       "(tensor(3.2991), tensor(10.8842))"
      ]
     },
     "execution_count": 40,
     "metadata": {},
     "output_type": "execute_result"
    }
   ],
   "source": [
    "# std & var\n",
    "torch.std(d), torch.var(d)"
   ]
  },
  {
   "cell_type": "markdown",
   "id": "a99789f6",
   "metadata": {},
   "source": [
    "matrix operations"
   ]
  },
  {
   "cell_type": "code",
   "execution_count": 41,
   "id": "14f5e53b",
   "metadata": {},
   "outputs": [
    {
     "data": {
      "text/plain": [
       "(tensor([[8., 9., 7.],\n",
       "         [9., 2., 6.]]),\n",
       " tensor([[7., 7., 8., 3.],\n",
       "         [6., 1., 5., 5.],\n",
       "         [0., 4., 3., 8.]]))"
      ]
     },
     "execution_count": 41,
     "metadata": {},
     "output_type": "execute_result"
    }
   ],
   "source": [
    "m = torch.randint(size=(2,3), low=0, high=10, dtype=torch.float32)\n",
    "n = torch.randint(size=(3,4), low=0, high=10, dtype=torch.float32)\n",
    "\n",
    "m, n"
   ]
  },
  {
   "cell_type": "code",
   "execution_count": 42,
   "id": "437e0b4a",
   "metadata": {},
   "outputs": [
    {
     "data": {
      "text/plain": [
       "tensor([[110.,  93., 130., 125.],\n",
       "        [ 75.,  89., 100.,  85.]])"
      ]
     },
     "execution_count": 42,
     "metadata": {},
     "output_type": "execute_result"
    }
   ],
   "source": [
    "# matrix mul\n",
    "torch.matmul(m, n)"
   ]
  },
  {
   "cell_type": "code",
   "execution_count": 43,
   "id": "0c902d0c",
   "metadata": {},
   "outputs": [
    {
     "data": {
      "text/plain": [
       "tensor(25)"
      ]
     },
     "execution_count": 43,
     "metadata": {},
     "output_type": "execute_result"
    }
   ],
   "source": [
    "# matrix dot-product\n",
    "v1 = torch.tensor([1, 2])\n",
    "v2 = torch.tensor([7, 9])\n",
    "\n",
    "torch.dot(v1, v2)"
   ]
  },
  {
   "cell_type": "code",
   "execution_count": 44,
   "id": "c840b278",
   "metadata": {},
   "outputs": [
    {
     "data": {
      "text/plain": [
       "tensor([[8., 9.],\n",
       "        [9., 2.],\n",
       "        [7., 6.]])"
      ]
     },
     "execution_count": 44,
     "metadata": {},
     "output_type": "execute_result"
    }
   ],
   "source": [
    "# transpose\n",
    "torch.transpose(m, dim0=0, dim1=1) # dim0 swaps with dim1"
   ]
  },
  {
   "cell_type": "code",
   "execution_count": 45,
   "id": "51a739e1",
   "metadata": {},
   "outputs": [
    {
     "data": {
      "text/plain": [
       "tensor(31.)"
      ]
     },
     "execution_count": 45,
     "metadata": {},
     "output_type": "execute_result"
    }
   ],
   "source": [
    "# determinant\n",
    "p = torch.randint(size=(2,2), low=0, high=10, dtype=torch.float32)\n",
    "\n",
    "torch.det(p)"
   ]
  },
  {
   "cell_type": "code",
   "execution_count": 46,
   "id": "426081b5",
   "metadata": {},
   "outputs": [
    {
     "data": {
      "text/plain": [
       "tensor([[0.0000, 0.2500],\n",
       "        [0.1667, 0.0000]])"
      ]
     },
     "execution_count": 46,
     "metadata": {},
     "output_type": "execute_result"
    }
   ],
   "source": [
    "# inverse\n",
    "p = torch.randint(size=(2,2), low=0, high=10, dtype=torch.float32)\n",
    "\n",
    "torch.inverse(p)"
   ]
  },
  {
   "cell_type": "markdown",
   "id": "403ef00d",
   "metadata": {},
   "source": [
    "comparision operations"
   ]
  },
  {
   "cell_type": "code",
   "execution_count": 47,
   "id": "140adc5d",
   "metadata": {},
   "outputs": [
    {
     "data": {
      "text/plain": [
       "(tensor([[8., 4.],\n",
       "         [7., 2.]]),\n",
       " tensor([[3., 8.],\n",
       "         [5., 6.]]))"
      ]
     },
     "execution_count": 47,
     "metadata": {},
     "output_type": "execute_result"
    }
   ],
   "source": [
    "p = torch.randint(size=(2,2), low=0, high=10, dtype=torch.float32)\n",
    "q = torch.randint(size=(2,2), low=0, high=10, dtype=torch.float32)\n",
    "\n",
    "p, q"
   ]
  },
  {
   "cell_type": "code",
   "execution_count": 48,
   "id": "e5bfb4e5",
   "metadata": {},
   "outputs": [
    {
     "data": {
      "text/plain": [
       "tensor([[False,  True],\n",
       "        [False,  True]])"
      ]
     },
     "execution_count": 48,
     "metadata": {},
     "output_type": "execute_result"
    }
   ],
   "source": [
    "# greater than\n",
    "p > q\n",
    "\n",
    "# less than\n",
    "p < q\n",
    "\n",
    "# equal to\n",
    "p == q\n",
    "\n",
    "# not equal to\n",
    "p != q\n",
    "\n",
    "# greater than eual to\n",
    "p >= q\n",
    "\n",
    "# less than eual to\n",
    "p <= q"
   ]
  },
  {
   "cell_type": "markdown",
   "id": "141ebd32",
   "metadata": {},
   "source": [
    "special functions"
   ]
  },
  {
   "cell_type": "code",
   "execution_count": 49,
   "id": "30a2d669",
   "metadata": {},
   "outputs": [
    {
     "data": {
      "text/plain": [
       "tensor([[2., 9., 5.],\n",
       "        [0., 4., 2.]])"
      ]
     },
     "execution_count": 49,
     "metadata": {},
     "output_type": "execute_result"
    }
   ],
   "source": [
    "k = torch.randint(size=(2,3), low=0, high=10, dtype=torch.float32)\n",
    "k"
   ]
  },
  {
   "cell_type": "code",
   "execution_count": 50,
   "id": "131218af",
   "metadata": {},
   "outputs": [
    {
     "data": {
      "text/plain": [
       "(tensor([[0.6931, 2.1972, 1.6094],\n",
       "         [  -inf, 1.3863, 0.6931]]),\n",
       " tensor([[7.3891e+00, 8.1031e+03, 1.4841e+02],\n",
       "         [1.0000e+00, 5.4598e+01, 7.3891e+00]]))"
      ]
     },
     "execution_count": 50,
     "metadata": {},
     "output_type": "execute_result"
    }
   ],
   "source": [
    "# log & exp\n",
    "torch.log(k), torch.exp(k)"
   ]
  },
  {
   "cell_type": "code",
   "execution_count": 51,
   "id": "8a50016d",
   "metadata": {},
   "outputs": [
    {
     "data": {
      "text/plain": [
       "tensor([[1.4142, 3.0000, 2.2361],\n",
       "        [0.0000, 2.0000, 1.4142]])"
      ]
     },
     "execution_count": 51,
     "metadata": {},
     "output_type": "execute_result"
    }
   ],
   "source": [
    "# sqrt\n",
    "torch.sqrt(k)"
   ]
  },
  {
   "cell_type": "code",
   "execution_count": 52,
   "id": "7d7c056f",
   "metadata": {},
   "outputs": [
    {
     "data": {
      "text/plain": [
       "(tensor([[0.8808, 0.9999, 0.9933],\n",
       "         [0.5000, 0.9820, 0.8808]]),\n",
       " tensor([[8.9468e-04, 9.8114e-01, 1.7970e-02],\n",
       "         [1.5876e-02, 8.6681e-01, 1.1731e-01]]),\n",
       " tensor([[2., 9., 5.],\n",
       "         [0., 4., 2.]]))"
      ]
     },
     "execution_count": 52,
     "metadata": {},
     "output_type": "execute_result"
    }
   ],
   "source": [
    "# sigmoid, softmax, relu\n",
    "torch.sigmoid(k), torch.softmax(k, dim=1), torch.relu(k)"
   ]
  },
  {
   "cell_type": "markdown",
   "id": "3885380f",
   "metadata": {},
   "source": [
    "inplace operations"
   ]
  },
  {
   "cell_type": "code",
   "execution_count": 53,
   "id": "fd84ccb5",
   "metadata": {},
   "outputs": [
    {
     "data": {
      "text/plain": [
       "(tensor([[7, 1, 1],\n",
       "         [5, 4, 4]]),\n",
       " tensor([[1, 1, 2],\n",
       "         [4, 7, 2]]))"
      ]
     },
     "execution_count": 53,
     "metadata": {},
     "output_type": "execute_result"
    }
   ],
   "source": [
    "u = torch.randint(size=(2,3), low=0, high=10)\n",
    "v = torch.randint(size=(2,3), low=0, high=10)\n",
    "u, v"
   ]
  },
  {
   "cell_type": "code",
   "execution_count": 54,
   "id": "36957aef",
   "metadata": {},
   "outputs": [
    {
     "data": {
      "text/plain": [
       "(tensor([[ 8,  2,  3],\n",
       "         [ 9, 11,  6]]),\n",
       " tensor([[ 8,  2,  3],\n",
       "         [ 9, 11,  6]]))"
      ]
     },
     "execution_count": 54,
     "metadata": {},
     "output_type": "execute_result"
    }
   ],
   "source": [
    "u.add_(v), u  # inplace addition, sometimes to save memory, we are saving results in the prime tensor itself"
   ]
  },
  {
   "cell_type": "markdown",
   "id": "743f6c4b",
   "metadata": {},
   "source": [
    "# w"
   ]
  },
  {
   "cell_type": "code",
   "execution_count": null,
   "id": "c884ea20",
   "metadata": {},
   "outputs": [],
   "source": []
  }
 ],
 "metadata": {
  "kernelspec": {
   "display_name": "EnvPT",
   "language": "python",
   "name": "python3"
  },
  "language_info": {
   "codemirror_mode": {
    "name": "ipython",
    "version": 3
   },
   "file_extension": ".py",
   "mimetype": "text/x-python",
   "name": "python",
   "nbconvert_exporter": "python",
   "pygments_lexer": "ipython3",
   "version": "3.12.12"
  }
 },
 "nbformat": 4,
 "nbformat_minor": 5
}
